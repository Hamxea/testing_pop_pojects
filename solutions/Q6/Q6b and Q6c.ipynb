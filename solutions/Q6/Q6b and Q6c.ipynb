{
 "cells": [
  {
   "cell_type": "markdown",
   "metadata": {
    "collapsed": false
   },
   "source": [
    "### Q6b)"
   ]
  },
  {
   "cell_type": "code",
   "execution_count": 1,
   "metadata": {
    "collapsed": false
   },
   "outputs": [],
   "source": [
    "# Imports\n",
    "import pandas as pd\n",
    "import numpy as np\n",
    "import matplotlib.pyplot as plt\n",
    "\n",
    "\n",
    "from sklearn.linear_model import LinearRegression"
   ]
  },
  {
   "cell_type": "code",
   "execution_count": 2,
   "metadata": {
    "collapsed": false
   },
   "outputs": [],
   "source": [
    "saar_data = pd.read_csv('../../datasets/SAAR_elevation.csv')"
   ]
  },
  {
   "cell_type": "code",
   "execution_count": 3,
   "metadata": {
    "collapsed": false
   },
   "outputs": [
    {
     "data": {
      "text/html": [
       "<div>\n",
       "<style scoped>\n",
       "    .dataframe tbody tr th:only-of-type {\n",
       "        vertical-align: middle;\n",
       "    }\n",
       "\n",
       "    .dataframe tbody tr th {\n",
       "        vertical-align: top;\n",
       "    }\n",
       "\n",
       "    .dataframe thead th {\n",
       "        text-align: right;\n",
       "    }\n",
       "</style>\n",
       "<table border=\"1\" class=\"dataframe\">\n",
       "  <thead>\n",
       "    <tr style=\"text-align: right;\">\n",
       "      <th></th>\n",
       "      <th>Name</th>\n",
       "      <th>elevation_m</th>\n",
       "      <th>SAAR_mm</th>\n",
       "      <th>E</th>\n",
       "      <th>N</th>\n",
       "    </tr>\n",
       "  </thead>\n",
       "  <tbody>\n",
       "    <tr>\n",
       "      <th>0</th>\n",
       "      <td>ASK</td>\n",
       "      <td>186</td>\n",
       "      <td>1136</td>\n",
       "      <td>351500</td>\n",
       "      <td>523900</td>\n",
       "    </tr>\n",
       "    <tr>\n",
       "      <th>1</th>\n",
       "      <td>OAS</td>\n",
       "      <td>165</td>\n",
       "      <td>889</td>\n",
       "      <td>357910</td>\n",
       "      <td>527500</td>\n",
       "    </tr>\n",
       "    <tr>\n",
       "      <th>2</th>\n",
       "      <td>SYH</td>\n",
       "      <td>120</td>\n",
       "      <td>850</td>\n",
       "      <td>358200</td>\n",
       "      <td>522000</td>\n",
       "    </tr>\n",
       "    <tr>\n",
       "      <th>3</th>\n",
       "      <td>SLE</td>\n",
       "      <td>212</td>\n",
       "      <td>1166</td>\n",
       "      <td>359300</td>\n",
       "      <td>519200</td>\n",
       "    </tr>\n",
       "    <tr>\n",
       "      <th>4</th>\n",
       "      <td>BLA</td>\n",
       "      <td>330</td>\n",
       "      <td>1425</td>\n",
       "      <td>363100</td>\n",
       "      <td>511700</td>\n",
       "    </tr>\n",
       "  </tbody>\n",
       "</table>\n",
       "</div>"
      ],
      "text/plain": [
       "  Name  elevation_m  SAAR_mm       E       N\n",
       "0  ASK          186     1136  351500  523900\n",
       "1  OAS          165      889  357910  527500\n",
       "2  SYH          120      850  358200  522000\n",
       "3  SLE          212     1166  359300  519200\n",
       "4  BLA          330     1425  363100  511700"
      ]
     },
     "execution_count": 3,
     "metadata": {},
     "output_type": "execute_result"
    }
   ],
   "source": [
    "saar_data.head(5)"
   ]
  },
  {
   "cell_type": "markdown",
   "metadata": {
    "collapsed": false
   },
   "source": [
    "### Check for missing:\n",
    "* any missing data\n",
    "* any erroneous data (e.g. negative, or large values which are clearly incorrect)\n",
    "* any samples which are too small or not matching in size if they are to be compared against other samples"
   ]
  },
  {
   "cell_type": "code",
   "execution_count": 4,
   "metadata": {
    "collapsed": false
   },
   "outputs": [
    {
     "data": {
      "text/html": [
       "<div>\n",
       "<style scoped>\n",
       "    .dataframe tbody tr th:only-of-type {\n",
       "        vertical-align: middle;\n",
       "    }\n",
       "\n",
       "    .dataframe tbody tr th {\n",
       "        vertical-align: top;\n",
       "    }\n",
       "\n",
       "    .dataframe thead th {\n",
       "        text-align: right;\n",
       "    }\n",
       "</style>\n",
       "<table border=\"1\" class=\"dataframe\">\n",
       "  <thead>\n",
       "    <tr style=\"text-align: right;\">\n",
       "      <th></th>\n",
       "      <th>Name</th>\n",
       "      <th>elevation_m</th>\n",
       "      <th>SAAR_mm</th>\n",
       "      <th>E</th>\n",
       "      <th>N</th>\n",
       "    </tr>\n",
       "  </thead>\n",
       "  <tbody>\n",
       "    <tr>\n",
       "      <th>0</th>\n",
       "      <td>False</td>\n",
       "      <td>False</td>\n",
       "      <td>False</td>\n",
       "      <td>False</td>\n",
       "      <td>False</td>\n",
       "    </tr>\n",
       "    <tr>\n",
       "      <th>1</th>\n",
       "      <td>False</td>\n",
       "      <td>False</td>\n",
       "      <td>False</td>\n",
       "      <td>False</td>\n",
       "      <td>False</td>\n",
       "    </tr>\n",
       "    <tr>\n",
       "      <th>2</th>\n",
       "      <td>False</td>\n",
       "      <td>False</td>\n",
       "      <td>False</td>\n",
       "      <td>False</td>\n",
       "      <td>False</td>\n",
       "    </tr>\n",
       "    <tr>\n",
       "      <th>3</th>\n",
       "      <td>False</td>\n",
       "      <td>False</td>\n",
       "      <td>False</td>\n",
       "      <td>False</td>\n",
       "      <td>False</td>\n",
       "    </tr>\n",
       "    <tr>\n",
       "      <th>4</th>\n",
       "      <td>False</td>\n",
       "      <td>False</td>\n",
       "      <td>False</td>\n",
       "      <td>False</td>\n",
       "      <td>False</td>\n",
       "    </tr>\n",
       "  </tbody>\n",
       "</table>\n",
       "</div>"
      ],
      "text/plain": [
       "    Name  elevation_m  SAAR_mm      E      N\n",
       "0  False        False    False  False  False\n",
       "1  False        False    False  False  False\n",
       "2  False        False    False  False  False\n",
       "3  False        False    False  False  False\n",
       "4  False        False    False  False  False"
      ]
     },
     "execution_count": 4,
     "metadata": {},
     "output_type": "execute_result"
    }
   ],
   "source": [
    "# using isnull() function\n",
    "saar_data.isnull().head(5)"
   ]
  },
  {
   "cell_type": "code",
   "execution_count": 5,
   "metadata": {
    "collapsed": false
   },
   "outputs": [
    {
     "data": {
      "text/plain": [
       "False"
      ]
     },
     "execution_count": 5,
     "metadata": {},
     "output_type": "execute_result"
    }
   ],
   "source": [
    "# Any missing values?\n",
    "saar_data.isnull().values.any()"
   ]
  },
  {
   "cell_type": "raw",
   "metadata": {
    "collapsed": false
   },
   "source": [
    "No missing values in the data set."
   ]
  },
  {
   "cell_type": "markdown",
   "metadata": {
    "collapsed": false
   },
   "source": [
    "### Function for calculating estimated coefficient and plotting"
   ]
  },
  {
   "cell_type": "code",
   "execution_count": 6,
   "metadata": {
    "collapsed": false
   },
   "outputs": [],
   "source": [
    "# Function for calculating estimated coefficient and plotting\n",
    "\n",
    "def estimate_coef(x, y):\n",
    "    # number of observations/points\n",
    "    n = np.size(x)\n",
    "\n",
    "    # mean of x and y vector\n",
    "    m_x = np.mean(x)\n",
    "    m_y = np.mean(y)\n",
    "\n",
    "    # calculating cross-deviation and deviation about x\n",
    "    SS_xy = np.sum(y*x) - n*m_y*m_x\n",
    "    SS_xx = np.sum(x*x) - n*m_x*m_x\n",
    "\n",
    "    # calculating regression coefficients\n",
    "    b_1 = SS_xy / SS_xx\n",
    "    b_0 = m_y - b_1*m_x\n",
    "\n",
    "    return (b_0, b_1)\n",
    "\n",
    "def plot_regression_line(x, y, b):\n",
    "    # plotting the actual points as scatter plot\n",
    "    plt.scatter(x, y, color = \"m\",\n",
    "               marker = \"o\", s = 30)\n",
    "\n",
    "    # predicted response vector\n",
    "    y_pred = b[0] + b[1]*x\n",
    "\n",
    "    # plotting the regression line\n",
    "    plt.plot(x, y_pred, color = \"g\")\n",
    "\n",
    "    # putting labels\n",
    "    plt.xlabel('elevation')\n",
    "    plt.ylabel('rainfall')\n",
    "\n",
    "    # function to show plot\n",
    "    plt.show()\n"
   ]
  },
  {
   "cell_type": "markdown",
   "metadata": {
    "collapsed": false
   },
   "source": [
    "### simple linear regression relation between rainfall and elevation"
   ]
  },
  {
   "cell_type": "code",
   "execution_count": 7,
   "metadata": {
    "collapsed": false
   },
   "outputs": [],
   "source": [
    " # observations / data\n",
    "rainfall = saar_data.SAAR_mm\n",
    "elevation_easting_northing = saar_data[['elevation_m', 'E', 'N']]\n",
    "\n",
    "# estimating coefficients\n",
    "# b = estimate_coef(elevation_easting_northing, rainfall)\n",
    "# print(\"Estimated coefficients:\\nb_0 = {}  \\\n",
    "#      \\nb_1 = {}\".format(b[0], b[1]))\n",
    "\n",
    "# plotting regression line\n",
    "# plot_regression_line(elevation_easting_northing, rainfall, b)"
   ]
  },
  {
   "cell_type": "markdown",
   "metadata": {
    "collapsed": false
   },
   "source": [
    "## Comparing base-line method results with sklearning library funncton"
   ]
  },
  {
   "cell_type": "code",
   "execution_count": 8,
   "metadata": {
    "collapsed": false
   },
   "outputs": [],
   "source": [
    "rainfall = rainfall.values\n",
    "elevation_easting_northing = elevation_easting_northing.values.reshape(-1, 3)"
   ]
  },
  {
   "cell_type": "code",
   "execution_count": 9,
   "metadata": {
    "collapsed": false
   },
   "outputs": [],
   "source": [
    "model = LinearRegression().fit(elevation_easting_northing, rainfall)"
   ]
  },
  {
   "cell_type": "raw",
   "metadata": {
    "collapsed": false
   },
   "source": [
    "You can obtain the coefficient of determination, 𝑅², with .score() called on model:"
   ]
  },
  {
   "cell_type": "code",
   "execution_count": 10,
   "metadata": {
    "collapsed": false
   },
   "outputs": [
    {
     "name": "stdout",
     "output_type": "stream",
     "text": [
      "coefficient of determination: 0.8150923030070694\n"
     ]
    }
   ],
   "source": [
    "r_sq = model.score(elevation_easting_northing, rainfall)\n",
    "print(f\"coefficient of determination: {r_sq}\")"
   ]
  },
  {
   "cell_type": "raw",
   "metadata": {
    "collapsed": false
   },
   "source": [
    "Therefore; the variance score is 0.82."
   ]
  },
  {
   "cell_type": "raw",
   "metadata": {
    "collapsed": false
   },
   "source": [
    "The attributes of model are .intercept_, which represents the coefficient 𝑏₀, and .coef_, which represents 𝑏₁:"
   ]
  },
  {
   "cell_type": "code",
   "execution_count": 11,
   "metadata": {
    "collapsed": false
   },
   "outputs": [
    {
     "name": "stdout",
     "output_type": "stream",
     "text": [
      "intercept: 12860.230479130896\n",
      "slope: [ 2.12417658 -0.00843012 -0.01766988]\n"
     ]
    }
   ],
   "source": [
    "print(f\"intercept: {model.intercept_}\")\n",
    "print(f\"slope: {model.coef_}\")"
   ]
  },
  {
   "cell_type": "raw",
   "metadata": {
    "collapsed": false
   },
   "source": [
    "The value of 𝑏₀ is approximately 12860.23. This illustrates that your model predicts the response 12860.23 when 𝑥 is zero. The value 𝑏₁ = 2.12417658, 𝑏2 = -0.00843012 𝑏3 = -0.017 means that the predicted response rises by 2.58 when 𝑥 is increased by one."
   ]
  },
  {
   "cell_type": "code",
   "execution_count": 12,
   "metadata": {
    "collapsed": false
   },
   "outputs": [],
   "source": [
    "# plotting regression line\n",
    "# plot_regression_line(elevation_easting_northing, rainfall, [model.intercept_, model.coef_])"
   ]
  },
  {
   "cell_type": "markdown",
   "metadata": {
    "collapsed": false
   },
   "source": [
    "### Q6c) For a new ungauged location at (E,N) (380000,500000) and elevation of 400 m, use your best regression relation from 2b to estimate the SAAR."
   ]
  },
  {
   "cell_type": "raw",
   "metadata": {
    "collapsed": false
   },
   "source": [
    "For a new ungauged location at (E,N) (380000,500000) and elevation of 400 m, use your best regression relation from 2b to estimate the SAAR."
   ]
  },
  {
   "cell_type": "code",
   "execution_count": 13,
   "metadata": {
    "collapsed": false
   },
   "outputs": [],
   "source": [
    "estimate_saar_input_vales = np.array([400, 380000, 500000]).reshape(-1, 3)"
   ]
  },
  {
   "cell_type": "raw",
   "metadata": {
    "collapsed": false
   },
   "source": [
    "Use the model in section (Q6b) and predict the SAAR estimate"
   ]
  },
  {
   "cell_type": "code",
   "execution_count": 15,
   "metadata": {
    "collapsed": false
   },
   "outputs": [
    {
     "name": "stdout",
     "output_type": "stream",
     "text": [
      "The estimate value of the SAAR is:\n",
      "[1671.51616078]\n"
     ]
    }
   ],
   "source": [
    "estimate_saar_prediction = model.predict(estimate_saar_input_vales)\n",
    "print(f\"The estimate value of the SAAR is:\\n{estimate_saar_prediction}\")"
   ]
  },
  {
   "cell_type": "markdown",
   "metadata": {},
   "source": [
    "### Comment:\n",
    "Comment\n",
    "Despite the lapses of linear regression and its requisites mentioned below\n",
    "1. Observations are limited.\n",
    "2. Assume that errors in X or regressor values are minor. It follows the zero-error exogeneity principle.\n",
    "3. Regressors should be constants or specified random variables.\n",
    "4. An economic model fits data better with reduced variance between data points and the regression line.\n",
    "5. Maximum likelihood estimator maximizes model-data agreement.\n",
    "\n",
    "Linear regression computationally cheap to calculate coefficients and provide a sight into what the model captured. Also, our data meets all the requirements. The correlation is positive and that the R-squared value is very good; meaning that the model is very good (Table 1. The slope and the intercept also show a good correlation. In general, our relation is reliable.\n",
    "Table 1: General performance ratings for evaluation criteria.\n",
    "|                  |                  | **MONTHLY**      |                  |                               |\n",
    "|------------------|------------------|------------------|------------------|-------------------------------|\n",
    "| **    NSE   **   | **    r, R2   ** | **    PBIAS   ** | **    RSR   **   | **    Performance Rating   ** |\n",
    "|     >0.90        |     >0.90        |     ≤±5          |     0.00         |     Excellent                 |\n",
    "|     0.80-0.90    |     0.80-0.90    |     ≤±5-±10      |     0-0.50       |     Very good                 |\n",
    "|     0.70-0.80    |     0.70-0.80    |     ±10-±15      |     0.50-0.60    |     Good                      |\n",
    "|     0.50-0.70    |     0.50-0.70    |     ±15-±25      |     0.60-0.70    |     Satisfactory              |\n",
    "|     <0.50        |     <0.50        |     ≥±25         |     >0.70        |     Unsatisfactory            |\n",
    "\n",
    "There has been improvement from the multiple regression to linear regression except for the slope that reduces from 2.58 to 2.12. Multiple regression is having R-squared and intercept of 0.72 and 532.9 compared to the linear having R-squared and intercept of 0.82 and 12860 respectively. In general, making reference to table 1, the model is very good.\n"
   ]
  }
 ],
 "metadata": {
  "kernelspec": {
   "display_name": "Python 3.8.13 ('venv_jupyterlabcode')",
   "language": "python",
   "name": "python3"
  },
  "language_info": {
   "codemirror_mode": {
    "name": "ipython",
    "version": 3
   },
   "file_extension": ".py",
   "mimetype": "text/x-python",
   "name": "python",
   "nbconvert_exporter": "python",
   "pygments_lexer": "ipython3",
   "version": "3.8.13"
  },
  "vscode": {
   "interpreter": {
    "hash": "851b02fe9e13964def55af41db420c4e96d48f63b52be22a4c04d4a50b2c9c7e"
   }
  }
 },
 "nbformat": 4,
 "nbformat_minor": 0
}
