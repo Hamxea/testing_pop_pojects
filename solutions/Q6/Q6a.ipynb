{
 "cells": [
  {
   "cell_type": "markdown",
   "source": [
    "### Q6a)"
   ],
   "metadata": {
    "collapsed": false
   }
  },
  {
   "cell_type": "code",
   "execution_count": 1,
   "outputs": [],
   "source": [
    "# Imports\n",
    "import pandas as pd\n",
    "import numpy as np\n",
    "import matplotlib.pyplot as plt\n",
    "from py.xml import raw\n",
    "\n",
    "from sklearn.linear_model import LinearRegression"
   ],
   "metadata": {
    "collapsed": false
   }
  },
  {
   "cell_type": "code",
   "execution_count": 2,
   "outputs": [],
   "source": [
    "saar_data = pd.read_csv('../../datasets/SAAR_elevation.csv')"
   ],
   "metadata": {
    "collapsed": false
   }
  },
  {
   "cell_type": "code",
   "execution_count": 3,
   "outputs": [
    {
     "data": {
      "text/plain": "   Name  elevation_m  SAAR_mm       E       N\n0   ASK          186     1136  351500  523900\n1   OAS          165      889  357910  527500\n2   SYH          120      850  358200  522000\n3   SLE          212     1166  359300  519200\n4   BLA          330     1425  363100  511700\n5   KRT          128      776  364400  526700\n6   SCA          183     1135  367300  514400\n7   APM          150      896  369080  519640\n8   ASB          250     1089  369500  512500\n9   BRE          175      926  370100  513900\n10  GAI          400     1346  371400  500900\n11  SAN          150      885  372600  516100\n12  CRO          198     1263  372800  509700\n13  MUR          275      974  373100  522100\n14  SYK          180      883  374700  512200\n15  STE          380     1762  375000  501200\n16  MUS          155      910  375700  513800\n17  ANG          480     2083  377200  499300\n18  AIS          360     1983  377800  496300\n19  BRO          251     1039  380500  515500\n20  NAT          500     1528  381000  505200\n21  KEA          191     1124  381300  516300\n22  WCH          505     1739  383500  519400\n23  BEA          343     1129  384500  512100",
      "text/html": "<div>\n<style scoped>\n    .dataframe tbody tr th:only-of-type {\n        vertical-align: middle;\n    }\n\n    .dataframe tbody tr th {\n        vertical-align: top;\n    }\n\n    .dataframe thead th {\n        text-align: right;\n    }\n</style>\n<table border=\"1\" class=\"dataframe\">\n  <thead>\n    <tr style=\"text-align: right;\">\n      <th></th>\n      <th>Name</th>\n      <th>elevation_m</th>\n      <th>SAAR_mm</th>\n      <th>E</th>\n      <th>N</th>\n    </tr>\n  </thead>\n  <tbody>\n    <tr>\n      <th>0</th>\n      <td>ASK</td>\n      <td>186</td>\n      <td>1136</td>\n      <td>351500</td>\n      <td>523900</td>\n    </tr>\n    <tr>\n      <th>1</th>\n      <td>OAS</td>\n      <td>165</td>\n      <td>889</td>\n      <td>357910</td>\n      <td>527500</td>\n    </tr>\n    <tr>\n      <th>2</th>\n      <td>SYH</td>\n      <td>120</td>\n      <td>850</td>\n      <td>358200</td>\n      <td>522000</td>\n    </tr>\n    <tr>\n      <th>3</th>\n      <td>SLE</td>\n      <td>212</td>\n      <td>1166</td>\n      <td>359300</td>\n      <td>519200</td>\n    </tr>\n    <tr>\n      <th>4</th>\n      <td>BLA</td>\n      <td>330</td>\n      <td>1425</td>\n      <td>363100</td>\n      <td>511700</td>\n    </tr>\n    <tr>\n      <th>5</th>\n      <td>KRT</td>\n      <td>128</td>\n      <td>776</td>\n      <td>364400</td>\n      <td>526700</td>\n    </tr>\n    <tr>\n      <th>6</th>\n      <td>SCA</td>\n      <td>183</td>\n      <td>1135</td>\n      <td>367300</td>\n      <td>514400</td>\n    </tr>\n    <tr>\n      <th>7</th>\n      <td>APM</td>\n      <td>150</td>\n      <td>896</td>\n      <td>369080</td>\n      <td>519640</td>\n    </tr>\n    <tr>\n      <th>8</th>\n      <td>ASB</td>\n      <td>250</td>\n      <td>1089</td>\n      <td>369500</td>\n      <td>512500</td>\n    </tr>\n    <tr>\n      <th>9</th>\n      <td>BRE</td>\n      <td>175</td>\n      <td>926</td>\n      <td>370100</td>\n      <td>513900</td>\n    </tr>\n    <tr>\n      <th>10</th>\n      <td>GAI</td>\n      <td>400</td>\n      <td>1346</td>\n      <td>371400</td>\n      <td>500900</td>\n    </tr>\n    <tr>\n      <th>11</th>\n      <td>SAN</td>\n      <td>150</td>\n      <td>885</td>\n      <td>372600</td>\n      <td>516100</td>\n    </tr>\n    <tr>\n      <th>12</th>\n      <td>CRO</td>\n      <td>198</td>\n      <td>1263</td>\n      <td>372800</td>\n      <td>509700</td>\n    </tr>\n    <tr>\n      <th>13</th>\n      <td>MUR</td>\n      <td>275</td>\n      <td>974</td>\n      <td>373100</td>\n      <td>522100</td>\n    </tr>\n    <tr>\n      <th>14</th>\n      <td>SYK</td>\n      <td>180</td>\n      <td>883</td>\n      <td>374700</td>\n      <td>512200</td>\n    </tr>\n    <tr>\n      <th>15</th>\n      <td>STE</td>\n      <td>380</td>\n      <td>1762</td>\n      <td>375000</td>\n      <td>501200</td>\n    </tr>\n    <tr>\n      <th>16</th>\n      <td>MUS</td>\n      <td>155</td>\n      <td>910</td>\n      <td>375700</td>\n      <td>513800</td>\n    </tr>\n    <tr>\n      <th>17</th>\n      <td>ANG</td>\n      <td>480</td>\n      <td>2083</td>\n      <td>377200</td>\n      <td>499300</td>\n    </tr>\n    <tr>\n      <th>18</th>\n      <td>AIS</td>\n      <td>360</td>\n      <td>1983</td>\n      <td>377800</td>\n      <td>496300</td>\n    </tr>\n    <tr>\n      <th>19</th>\n      <td>BRO</td>\n      <td>251</td>\n      <td>1039</td>\n      <td>380500</td>\n      <td>515500</td>\n    </tr>\n    <tr>\n      <th>20</th>\n      <td>NAT</td>\n      <td>500</td>\n      <td>1528</td>\n      <td>381000</td>\n      <td>505200</td>\n    </tr>\n    <tr>\n      <th>21</th>\n      <td>KEA</td>\n      <td>191</td>\n      <td>1124</td>\n      <td>381300</td>\n      <td>516300</td>\n    </tr>\n    <tr>\n      <th>22</th>\n      <td>WCH</td>\n      <td>505</td>\n      <td>1739</td>\n      <td>383500</td>\n      <td>519400</td>\n    </tr>\n    <tr>\n      <th>23</th>\n      <td>BEA</td>\n      <td>343</td>\n      <td>1129</td>\n      <td>384500</td>\n      <td>512100</td>\n    </tr>\n  </tbody>\n</table>\n</div>"
     },
     "execution_count": 3,
     "metadata": {},
     "output_type": "execute_result"
    }
   ],
   "source": [
    "saar_data"
   ],
   "metadata": {
    "collapsed": false
   }
  },
  {
   "cell_type": "markdown",
   "source": [
    "### Check for missing:\n",
    "* any missing data\n",
    "* any erroneous data (e.g. negative, or large values which are clearly incorrect)\n",
    "* any samples which are too small or not matching in size if they are to be compared against other samples"
   ],
   "metadata": {
    "collapsed": false
   }
  },
  {
   "cell_type": "code",
   "execution_count": 4,
   "outputs": [
    {
     "data": {
      "text/plain": "     Name  elevation_m  SAAR_mm      E      N\n0   False        False    False  False  False\n1   False        False    False  False  False\n2   False        False    False  False  False\n3   False        False    False  False  False\n4   False        False    False  False  False\n5   False        False    False  False  False\n6   False        False    False  False  False\n7   False        False    False  False  False\n8   False        False    False  False  False\n9   False        False    False  False  False\n10  False        False    False  False  False\n11  False        False    False  False  False\n12  False        False    False  False  False\n13  False        False    False  False  False\n14  False        False    False  False  False\n15  False        False    False  False  False\n16  False        False    False  False  False\n17  False        False    False  False  False\n18  False        False    False  False  False\n19  False        False    False  False  False\n20  False        False    False  False  False\n21  False        False    False  False  False\n22  False        False    False  False  False\n23  False        False    False  False  False",
      "text/html": "<div>\n<style scoped>\n    .dataframe tbody tr th:only-of-type {\n        vertical-align: middle;\n    }\n\n    .dataframe tbody tr th {\n        vertical-align: top;\n    }\n\n    .dataframe thead th {\n        text-align: right;\n    }\n</style>\n<table border=\"1\" class=\"dataframe\">\n  <thead>\n    <tr style=\"text-align: right;\">\n      <th></th>\n      <th>Name</th>\n      <th>elevation_m</th>\n      <th>SAAR_mm</th>\n      <th>E</th>\n      <th>N</th>\n    </tr>\n  </thead>\n  <tbody>\n    <tr>\n      <th>0</th>\n      <td>False</td>\n      <td>False</td>\n      <td>False</td>\n      <td>False</td>\n      <td>False</td>\n    </tr>\n    <tr>\n      <th>1</th>\n      <td>False</td>\n      <td>False</td>\n      <td>False</td>\n      <td>False</td>\n      <td>False</td>\n    </tr>\n    <tr>\n      <th>2</th>\n      <td>False</td>\n      <td>False</td>\n      <td>False</td>\n      <td>False</td>\n      <td>False</td>\n    </tr>\n    <tr>\n      <th>3</th>\n      <td>False</td>\n      <td>False</td>\n      <td>False</td>\n      <td>False</td>\n      <td>False</td>\n    </tr>\n    <tr>\n      <th>4</th>\n      <td>False</td>\n      <td>False</td>\n      <td>False</td>\n      <td>False</td>\n      <td>False</td>\n    </tr>\n    <tr>\n      <th>5</th>\n      <td>False</td>\n      <td>False</td>\n      <td>False</td>\n      <td>False</td>\n      <td>False</td>\n    </tr>\n    <tr>\n      <th>6</th>\n      <td>False</td>\n      <td>False</td>\n      <td>False</td>\n      <td>False</td>\n      <td>False</td>\n    </tr>\n    <tr>\n      <th>7</th>\n      <td>False</td>\n      <td>False</td>\n      <td>False</td>\n      <td>False</td>\n      <td>False</td>\n    </tr>\n    <tr>\n      <th>8</th>\n      <td>False</td>\n      <td>False</td>\n      <td>False</td>\n      <td>False</td>\n      <td>False</td>\n    </tr>\n    <tr>\n      <th>9</th>\n      <td>False</td>\n      <td>False</td>\n      <td>False</td>\n      <td>False</td>\n      <td>False</td>\n    </tr>\n    <tr>\n      <th>10</th>\n      <td>False</td>\n      <td>False</td>\n      <td>False</td>\n      <td>False</td>\n      <td>False</td>\n    </tr>\n    <tr>\n      <th>11</th>\n      <td>False</td>\n      <td>False</td>\n      <td>False</td>\n      <td>False</td>\n      <td>False</td>\n    </tr>\n    <tr>\n      <th>12</th>\n      <td>False</td>\n      <td>False</td>\n      <td>False</td>\n      <td>False</td>\n      <td>False</td>\n    </tr>\n    <tr>\n      <th>13</th>\n      <td>False</td>\n      <td>False</td>\n      <td>False</td>\n      <td>False</td>\n      <td>False</td>\n    </tr>\n    <tr>\n      <th>14</th>\n      <td>False</td>\n      <td>False</td>\n      <td>False</td>\n      <td>False</td>\n      <td>False</td>\n    </tr>\n    <tr>\n      <th>15</th>\n      <td>False</td>\n      <td>False</td>\n      <td>False</td>\n      <td>False</td>\n      <td>False</td>\n    </tr>\n    <tr>\n      <th>16</th>\n      <td>False</td>\n      <td>False</td>\n      <td>False</td>\n      <td>False</td>\n      <td>False</td>\n    </tr>\n    <tr>\n      <th>17</th>\n      <td>False</td>\n      <td>False</td>\n      <td>False</td>\n      <td>False</td>\n      <td>False</td>\n    </tr>\n    <tr>\n      <th>18</th>\n      <td>False</td>\n      <td>False</td>\n      <td>False</td>\n      <td>False</td>\n      <td>False</td>\n    </tr>\n    <tr>\n      <th>19</th>\n      <td>False</td>\n      <td>False</td>\n      <td>False</td>\n      <td>False</td>\n      <td>False</td>\n    </tr>\n    <tr>\n      <th>20</th>\n      <td>False</td>\n      <td>False</td>\n      <td>False</td>\n      <td>False</td>\n      <td>False</td>\n    </tr>\n    <tr>\n      <th>21</th>\n      <td>False</td>\n      <td>False</td>\n      <td>False</td>\n      <td>False</td>\n      <td>False</td>\n    </tr>\n    <tr>\n      <th>22</th>\n      <td>False</td>\n      <td>False</td>\n      <td>False</td>\n      <td>False</td>\n      <td>False</td>\n    </tr>\n    <tr>\n      <th>23</th>\n      <td>False</td>\n      <td>False</td>\n      <td>False</td>\n      <td>False</td>\n      <td>False</td>\n    </tr>\n  </tbody>\n</table>\n</div>"
     },
     "execution_count": 4,
     "metadata": {},
     "output_type": "execute_result"
    }
   ],
   "source": [
    "# using isnull() function\n",
    "saar_data.isnull()"
   ],
   "metadata": {
    "collapsed": false
   }
  },
  {
   "cell_type": "code",
   "execution_count": 5,
   "outputs": [
    {
     "data": {
      "text/plain": "False"
     },
     "execution_count": 5,
     "metadata": {},
     "output_type": "execute_result"
    }
   ],
   "source": [
    "# Any missing values?\n",
    "saar_data.isnull().values.any()"
   ],
   "metadata": {
    "collapsed": false
   }
  },
  {
   "cell_type": "raw",
   "source": [
    "No missing values in the data set."
   ],
   "metadata": {
    "collapsed": false
   }
  },
  {
   "cell_type": "markdown",
   "source": [
    "### Function for calculating estimated coefficient and plotting"
   ],
   "metadata": {
    "collapsed": false
   }
  },
  {
   "cell_type": "code",
   "execution_count": 6,
   "outputs": [],
   "source": [
    "# Function for calculating estimated coefficient and plotting\n",
    "\n",
    "def estimate_coef(x, y):\n",
    "    # number of observations/points\n",
    "    n = np.size(x)\n",
    "\n",
    "    # mean of x and y vector\n",
    "    m_x = np.mean(x)\n",
    "    m_y = np.mean(y)\n",
    "\n",
    "    # calculating cross-deviation and deviation about x\n",
    "    SS_xy = np.sum(y*x) - n*m_y*m_x\n",
    "    SS_xx = np.sum(x*x) - n*m_x*m_x\n",
    "\n",
    "    # calculating regression coefficients\n",
    "    b_1 = SS_xy / SS_xx\n",
    "    b_0 = m_y - b_1*m_x\n",
    "\n",
    "    return (b_0, b_1)\n",
    "\n",
    "def plot_regression_line(x, y, b):\n",
    "    # plotting the actual points as scatter plot\n",
    "    plt.scatter(x, y, color = \"m\",\n",
    "               marker = \"o\", s = 30)\n",
    "\n",
    "    # predicted response vector\n",
    "    y_pred = b[0] + b[1]*x\n",
    "\n",
    "    # plotting the regression line\n",
    "    plt.plot(x, y_pred, color = \"g\")\n",
    "\n",
    "    # putting labels\n",
    "    plt.xlabel('elevation')\n",
    "    plt.ylabel('rainfall')\n",
    "\n",
    "    # function to show plot\n",
    "    plt.show()\n"
   ],
   "metadata": {
    "collapsed": false
   }
  },
  {
   "cell_type": "markdown",
   "source": [
    "### simple linear regression relation between rainfall and elevation"
   ],
   "metadata": {
    "collapsed": false
   }
  },
  {
   "cell_type": "code",
   "execution_count": 7,
   "outputs": [
    {
     "name": "stdout",
     "output_type": "stream",
     "text": [
      "Estimated coefficients:\n",
      "b_0 = 532.854148643272       \n",
      "b_1 = 2.576591739677912\n"
     ]
    },
    {
     "data": {
      "text/plain": "<Figure size 640x480 with 1 Axes>",
      "image/png": "[encoded data removed]"
     },
     "metadata": {},
     "output_type": "display_data"
    }
   ],
   "source": [
    " # observations / data\n",
    "rainfall = saar_data.SAAR_mm\n",
    "elevation = saar_data.elevation_m\n",
    "\n",
    "# estimating coefficients\n",
    "b = estimate_coef(elevation, rainfall)\n",
    "print(\"Estimated coefficients:\\nb_0 = {}  \\\n",
    "      \\nb_1 = {}\".format(b[0], b[1]))\n",
    "\n",
    "# plotting regression line\n",
    "plot_regression_line(elevation, rainfall, b)"
   ],
   "metadata": {
    "collapsed": false
   }
  },
  {
   "cell_type": "markdown",
   "source": [
    "## Comparing base-line method results with sklearning library funncton"
   ],
   "metadata": {
    "collapsed": false
   }
  },
  {
   "cell_type": "code",
   "execution_count": 8,
   "outputs": [],
   "source": [
    "rainfall = rainfall.values\n",
    "elevation = elevation.values.reshape(-1, 1)\n",
    "model = LinearRegression().fit(elevation, rainfall)"
   ],
   "metadata": {
    "collapsed": false
   }
  },
  {
   "cell_type": "raw",
   "source": [
    "You can obtain the coefficient of determination, 𝑅², with .score() called on model:"
   ],
   "metadata": {
    "collapsed": false
   }
  },
  {
   "cell_type": "code",
   "execution_count": 9,
   "outputs": [
    {
     "name": "stdout",
     "output_type": "stream",
     "text": [
      "coefficient of determination: 0.7171837853976939\n"
     ]
    }
   ],
   "source": [
    "r_sq = model.score(elevation, rainfall)\n",
    "print(f\"coefficient of determination: {r_sq}\")"
   ],
   "metadata": {
    "collapsed": false
   }
  },
  {
   "cell_type": "raw",
   "source": [
    "Therefore; the variance score is 0.72."
   ],
   "metadata": {
    "collapsed": false
   }
  },
  {
   "cell_type": "raw",
   "source": [
    "The attributes of model are .intercept_, which represents the coefficient 𝑏₀, and .coef_, which represents 𝑏₁:"
   ],
   "metadata": {
    "collapsed": false
   }
  },
  {
   "cell_type": "code",
   "execution_count": 10,
   "outputs": [
    {
     "name": "stdout",
     "output_type": "stream",
     "text": [
      "intercept: 532.8541486432722\n",
      "slope: [2.57659174]\n"
     ]
    }
   ],
   "source": [
    "print(f\"intercept: {model.intercept_}\")\n",
    "print(f\"slope: {model.coef_}\")"
   ],
   "metadata": {
    "collapsed": false
   }
  },
  {
   "cell_type": "raw",
   "source": [
    "The value of 𝑏₀ is approximately 532.9. This illustrates that your model predicts the response 532.9 when 𝑥 is zero. The value 𝑏₁ = 2.58 means that the predicted response rises by 2.58 when 𝑥 is increased by one."
   ],
   "metadata": {
    "collapsed": false
   }
  },
  {
   "cell_type": "code",
   "execution_count": 11,
   "outputs": [
    {
     "data": {
      "text/plain": "<Figure size 640x480 with 1 Axes>",
      "image/png": "[encoded data removed]"
     },
     "metadata": {},
     "output_type": "display_data"
    }
   ],
   "source": [
    "# plotting regression line\n",
    "plot_regression_line(elevation, rainfall, [model.intercept_, model.coef_])"
   ],
   "metadata": {
    "collapsed": false
   }
  }
 ],
 "metadata": {
  "kernelspec": {
   "display_name": "Python 3",
   "language": "python",
   "name": "python3"
  },
  "language_info": {
   "codemirror_mode": {
    "name": "ipython",
    "version": 2
   },
   "file_extension": ".py",
   "mimetype": "text/x-python",
   "name": "python",
   "nbconvert_exporter": "python",
   "pygments_lexer": "ipython2",
   "version": "2.7.6"
  }
 },
 "nbformat": 4,
 "nbformat_minor": 0
}
