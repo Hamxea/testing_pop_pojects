{
 "cells": [
  {
   "cell_type": "markdown",
   "source": [
    "### Q7b)"
   ],
   "metadata": {
    "collapsed": false
   }
  },
  {
   "cell_type": "code",
   "execution_count": 1,
   "outputs": [],
   "source": [
    "# Imports\n",
    "import pandas as pd"
   ],
   "metadata": {
    "collapsed": false
   }
  },
  {
   "cell_type": "code",
   "execution_count": 2,
   "outputs": [
    {
     "data": {
      "text/plain": "       day  month  year  flow_m3_s\n0        1      1  1970     29.360\n1        2      1  1970     28.880\n2        3      1  1970     27.990\n3        4      1  1970     23.610\n4        5      1  1970     21.950\n...    ...    ...   ...        ...\n11319   28     12  2000     33.600\n11320   29     12  2000     31.420\n11321   30     12  2000     28.970\n11322   31     12  2000     31.300\n11323    1      1  2001     72.836\n\n[11324 rows x 4 columns]",
      "text/html": "<div>\n<style scoped>\n    .dataframe tbody tr th:only-of-type {\n        vertical-align: middle;\n    }\n\n    .dataframe tbody tr th {\n        vertical-align: top;\n    }\n\n    .dataframe thead th {\n        text-align: right;\n    }\n</style>\n<table border=\"1\" class=\"dataframe\">\n  <thead>\n    <tr style=\"text-align: right;\">\n      <th></th>\n      <th>day</th>\n      <th>month</th>\n      <th>year</th>\n      <th>flow_m3_s</th>\n    </tr>\n  </thead>\n  <tbody>\n    <tr>\n      <th>0</th>\n      <td>1</td>\n      <td>1</td>\n      <td>1970</td>\n      <td>29.360</td>\n    </tr>\n    <tr>\n      <th>1</th>\n      <td>2</td>\n      <td>1</td>\n      <td>1970</td>\n      <td>28.880</td>\n    </tr>\n    <tr>\n      <th>2</th>\n      <td>3</td>\n      <td>1</td>\n      <td>1970</td>\n      <td>27.990</td>\n    </tr>\n    <tr>\n      <th>3</th>\n      <td>4</td>\n      <td>1</td>\n      <td>1970</td>\n      <td>23.610</td>\n    </tr>\n    <tr>\n      <th>4</th>\n      <td>5</td>\n      <td>1</td>\n      <td>1970</td>\n      <td>21.950</td>\n    </tr>\n    <tr>\n      <th>...</th>\n      <td>...</td>\n      <td>...</td>\n      <td>...</td>\n      <td>...</td>\n    </tr>\n    <tr>\n      <th>11319</th>\n      <td>28</td>\n      <td>12</td>\n      <td>2000</td>\n      <td>33.600</td>\n    </tr>\n    <tr>\n      <th>11320</th>\n      <td>29</td>\n      <td>12</td>\n      <td>2000</td>\n      <td>31.420</td>\n    </tr>\n    <tr>\n      <th>11321</th>\n      <td>30</td>\n      <td>12</td>\n      <td>2000</td>\n      <td>28.970</td>\n    </tr>\n    <tr>\n      <th>11322</th>\n      <td>31</td>\n      <td>12</td>\n      <td>2000</td>\n      <td>31.300</td>\n    </tr>\n    <tr>\n      <th>11323</th>\n      <td>1</td>\n      <td>1</td>\n      <td>2001</td>\n      <td>72.836</td>\n    </tr>\n  </tbody>\n</table>\n<p>11324 rows × 4 columns</p>\n</div>"
     },
     "execution_count": 2,
     "metadata": {},
     "output_type": "execute_result"
    }
   ],
   "source": [
    "flow_data = pd.read_csv('../../datasets/flows.csv')\n",
    "flow_data"
   ],
   "metadata": {
    "collapsed": false
   }
  },
  {
   "cell_type": "markdown",
   "source": [
    "### Check for missing:\n",
    "* any missing data\n",
    "* any erroneous data (e.g. negative, or large values which are clearly incorrect)\n",
    "* any samples which are too small or not matching in size if they are to be compared against other samples\n"
   ],
   "metadata": {
    "collapsed": false
   }
  },
  {
   "cell_type": "code",
   "execution_count": 3,
   "outputs": [
    {
     "data": {
      "text/plain": "         day  month   year  flow_m3_s\n0      False  False  False      False\n1      False  False  False      False\n2      False  False  False      False\n3      False  False  False      False\n4      False  False  False      False\n...      ...    ...    ...        ...\n11319  False  False  False      False\n11320  False  False  False      False\n11321  False  False  False      False\n11322  False  False  False      False\n11323  False  False  False      False\n\n[11324 rows x 4 columns]",
      "text/html": "<div>\n<style scoped>\n    .dataframe tbody tr th:only-of-type {\n        vertical-align: middle;\n    }\n\n    .dataframe tbody tr th {\n        vertical-align: top;\n    }\n\n    .dataframe thead th {\n        text-align: right;\n    }\n</style>\n<table border=\"1\" class=\"dataframe\">\n  <thead>\n    <tr style=\"text-align: right;\">\n      <th></th>\n      <th>day</th>\n      <th>month</th>\n      <th>year</th>\n      <th>flow_m3_s</th>\n    </tr>\n  </thead>\n  <tbody>\n    <tr>\n      <th>0</th>\n      <td>False</td>\n      <td>False</td>\n      <td>False</td>\n      <td>False</td>\n    </tr>\n    <tr>\n      <th>1</th>\n      <td>False</td>\n      <td>False</td>\n      <td>False</td>\n      <td>False</td>\n    </tr>\n    <tr>\n      <th>2</th>\n      <td>False</td>\n      <td>False</td>\n      <td>False</td>\n      <td>False</td>\n    </tr>\n    <tr>\n      <th>3</th>\n      <td>False</td>\n      <td>False</td>\n      <td>False</td>\n      <td>False</td>\n    </tr>\n    <tr>\n      <th>4</th>\n      <td>False</td>\n      <td>False</td>\n      <td>False</td>\n      <td>False</td>\n    </tr>\n    <tr>\n      <th>...</th>\n      <td>...</td>\n      <td>...</td>\n      <td>...</td>\n      <td>...</td>\n    </tr>\n    <tr>\n      <th>11319</th>\n      <td>False</td>\n      <td>False</td>\n      <td>False</td>\n      <td>False</td>\n    </tr>\n    <tr>\n      <th>11320</th>\n      <td>False</td>\n      <td>False</td>\n      <td>False</td>\n      <td>False</td>\n    </tr>\n    <tr>\n      <th>11321</th>\n      <td>False</td>\n      <td>False</td>\n      <td>False</td>\n      <td>False</td>\n    </tr>\n    <tr>\n      <th>11322</th>\n      <td>False</td>\n      <td>False</td>\n      <td>False</td>\n      <td>False</td>\n    </tr>\n    <tr>\n      <th>11323</th>\n      <td>False</td>\n      <td>False</td>\n      <td>False</td>\n      <td>False</td>\n    </tr>\n  </tbody>\n</table>\n<p>11324 rows × 4 columns</p>\n</div>"
     },
     "execution_count": 3,
     "metadata": {},
     "output_type": "execute_result"
    }
   ],
   "source": [
    "# using isnull() function\n",
    "flow_data.isnull()"
   ],
   "metadata": {
    "collapsed": false
   }
  },
  {
   "cell_type": "code",
   "execution_count": 4,
   "outputs": [
    {
     "data": {
      "text/plain": "True"
     },
     "execution_count": 4,
     "metadata": {},
     "output_type": "execute_result"
    }
   ],
   "source": [
    "# Any missing values?\n",
    "flow_data.isnull().values.any()"
   ],
   "metadata": {
    "collapsed": false
   }
  },
  {
   "cell_type": "code",
   "execution_count": 5,
   "outputs": [
    {
     "name": "stdout",
     "output_type": "stream",
     "text": [
      "6\n"
     ]
    }
   ],
   "source": [
    "print(flow_data.isnull().values.sum())"
   ],
   "metadata": {
    "collapsed": false
   }
  },
  {
   "cell_type": "raw",
   "source": [
    "There are 6 missing data"
   ],
   "metadata": {
    "collapsed": false
   }
  },
  {
   "cell_type": "markdown",
   "source": [
    "### Remove missing values"
   ],
   "metadata": {
    "collapsed": false
   }
  },
  {
   "cell_type": "code",
   "execution_count": 6,
   "outputs": [
    {
     "name": "stdout",
     "output_type": "stream",
     "text": [
      "0\n"
     ]
    }
   ],
   "source": [
    "flow_data = flow_data.dropna()\n",
    "print(flow_data.isnull().values.sum())"
   ],
   "metadata": {
    "collapsed": false
   }
  },
  {
   "cell_type": "markdown",
   "source": [
    "### Copy data"
   ],
   "metadata": {
    "collapsed": false
   }
  },
  {
   "cell_type": "code",
   "execution_count": 7,
   "outputs": [],
   "source": [
    "flow_data_copy = flow_data.copy()"
   ],
   "metadata": {
    "collapsed": false
   }
  },
  {
   "cell_type": "markdown",
   "source": [
    "### Transform the data to time series format"
   ],
   "metadata": {
    "collapsed": false
   }
  },
  {
   "cell_type": "code",
   "execution_count": 8,
   "outputs": [
    {
     "data": {
      "text/plain": "       day  month  year  flow_m3_s   dateInt       Date\n0        1      1  1970     29.360  19700101 1970-01-01\n1        2      1  1970     28.880  19700102 1970-01-02\n2        3      1  1970     27.990  19700103 1970-01-03\n3        4      1  1970     23.610  19700104 1970-01-04\n4        5      1  1970     21.950  19700105 1970-01-05\n...    ...    ...   ...        ...       ...        ...\n11319   28     12  2000     33.600  20001228 2000-12-28\n11320   29     12  2000     31.420  20001229 2000-12-29\n11321   30     12  2000     28.970  20001230 2000-12-30\n11322   31     12  2000     31.300  20001231 2000-12-31\n11323    1      1  2001     72.836  20010101 2001-01-01\n\n[11318 rows x 6 columns]",
      "text/html": "<div>\n<style scoped>\n    .dataframe tbody tr th:only-of-type {\n        vertical-align: middle;\n    }\n\n    .dataframe tbody tr th {\n        vertical-align: top;\n    }\n\n    .dataframe thead th {\n        text-align: right;\n    }\n</style>\n<table border=\"1\" class=\"dataframe\">\n  <thead>\n    <tr style=\"text-align: right;\">\n      <th></th>\n      <th>day</th>\n      <th>month</th>\n      <th>year</th>\n      <th>flow_m3_s</th>\n      <th>dateInt</th>\n      <th>Date</th>\n    </tr>\n  </thead>\n  <tbody>\n    <tr>\n      <th>0</th>\n      <td>1</td>\n      <td>1</td>\n      <td>1970</td>\n      <td>29.360</td>\n      <td>19700101</td>\n      <td>1970-01-01</td>\n    </tr>\n    <tr>\n      <th>1</th>\n      <td>2</td>\n      <td>1</td>\n      <td>1970</td>\n      <td>28.880</td>\n      <td>19700102</td>\n      <td>1970-01-02</td>\n    </tr>\n    <tr>\n      <th>2</th>\n      <td>3</td>\n      <td>1</td>\n      <td>1970</td>\n      <td>27.990</td>\n      <td>19700103</td>\n      <td>1970-01-03</td>\n    </tr>\n    <tr>\n      <th>3</th>\n      <td>4</td>\n      <td>1</td>\n      <td>1970</td>\n      <td>23.610</td>\n      <td>19700104</td>\n      <td>1970-01-04</td>\n    </tr>\n    <tr>\n      <th>4</th>\n      <td>5</td>\n      <td>1</td>\n      <td>1970</td>\n      <td>21.950</td>\n      <td>19700105</td>\n      <td>1970-01-05</td>\n    </tr>\n    <tr>\n      <th>...</th>\n      <td>...</td>\n      <td>...</td>\n      <td>...</td>\n      <td>...</td>\n      <td>...</td>\n      <td>...</td>\n    </tr>\n    <tr>\n      <th>11319</th>\n      <td>28</td>\n      <td>12</td>\n      <td>2000</td>\n      <td>33.600</td>\n      <td>20001228</td>\n      <td>2000-12-28</td>\n    </tr>\n    <tr>\n      <th>11320</th>\n      <td>29</td>\n      <td>12</td>\n      <td>2000</td>\n      <td>31.420</td>\n      <td>20001229</td>\n      <td>2000-12-29</td>\n    </tr>\n    <tr>\n      <th>11321</th>\n      <td>30</td>\n      <td>12</td>\n      <td>2000</td>\n      <td>28.970</td>\n      <td>20001230</td>\n      <td>2000-12-30</td>\n    </tr>\n    <tr>\n      <th>11322</th>\n      <td>31</td>\n      <td>12</td>\n      <td>2000</td>\n      <td>31.300</td>\n      <td>20001231</td>\n      <td>2000-12-31</td>\n    </tr>\n    <tr>\n      <th>11323</th>\n      <td>1</td>\n      <td>1</td>\n      <td>2001</td>\n      <td>72.836</td>\n      <td>20010101</td>\n      <td>2001-01-01</td>\n    </tr>\n  </tbody>\n</table>\n<p>11318 rows × 6 columns</p>\n</div>"
     },
     "execution_count": 8,
     "metadata": {},
     "output_type": "execute_result"
    }
   ],
   "source": [
    "flow_data_copy['dateInt'] = flow_data_copy['year'].astype(str) + flow_data_copy['month'].astype(str).str.zfill(2)+ flow_data_copy['day'].astype(str).str.zfill(2)\n",
    "flow_data_copy['Date'] = pd.to_datetime(flow_data_copy['dateInt'], format='%Y%m%d')\n",
    "flow_data_copy"
   ],
   "metadata": {
    "collapsed": false
   }
  },
  {
   "cell_type": "code",
   "execution_count": 9,
   "outputs": [
    {
     "data": {
      "text/plain": "            flow_m3_s\nDate                 \n1970-01-31   2147.320\n1970-02-28   2032.020\n1970-03-31   1112.220\n1970-04-30   1918.950\n1970-05-31    649.940\n...               ...\n2000-09-30   2051.640\n2000-10-31   3389.370\n2000-11-30   4448.620\n2000-12-31   4292.590\n2001-01-31     72.836\n\n[373 rows x 1 columns]",
      "text/html": "<div>\n<style scoped>\n    .dataframe tbody tr th:only-of-type {\n        vertical-align: middle;\n    }\n\n    .dataframe tbody tr th {\n        vertical-align: top;\n    }\n\n    .dataframe thead th {\n        text-align: right;\n    }\n</style>\n<table border=\"1\" class=\"dataframe\">\n  <thead>\n    <tr style=\"text-align: right;\">\n      <th></th>\n      <th>flow_m3_s</th>\n    </tr>\n    <tr>\n      <th>Date</th>\n      <th></th>\n    </tr>\n  </thead>\n  <tbody>\n    <tr>\n      <th>1970-01-31</th>\n      <td>2147.320</td>\n    </tr>\n    <tr>\n      <th>1970-02-28</th>\n      <td>2032.020</td>\n    </tr>\n    <tr>\n      <th>1970-03-31</th>\n      <td>1112.220</td>\n    </tr>\n    <tr>\n      <th>1970-04-30</th>\n      <td>1918.950</td>\n    </tr>\n    <tr>\n      <th>1970-05-31</th>\n      <td>649.940</td>\n    </tr>\n    <tr>\n      <th>...</th>\n      <td>...</td>\n    </tr>\n    <tr>\n      <th>2000-09-30</th>\n      <td>2051.640</td>\n    </tr>\n    <tr>\n      <th>2000-10-31</th>\n      <td>3389.370</td>\n    </tr>\n    <tr>\n      <th>2000-11-30</th>\n      <td>4448.620</td>\n    </tr>\n    <tr>\n      <th>2000-12-31</th>\n      <td>4292.590</td>\n    </tr>\n    <tr>\n      <th>2001-01-31</th>\n      <td>72.836</td>\n    </tr>\n  </tbody>\n</table>\n<p>373 rows × 1 columns</p>\n</div>"
     },
     "execution_count": 9,
     "metadata": {},
     "output_type": "execute_result"
    }
   ],
   "source": [
    "monthly_flow_data_series =  flow_data_copy.filter(['Date', 'flow_m3_s'], axis=1)\n",
    "monthly_flow_data_series = monthly_flow_data_series.set_index('Date').resample('M').sum()\n",
    "monthly_flow_data_series"
   ],
   "metadata": {
    "collapsed": false
   }
  },
  {
   "cell_type": "markdown",
   "source": [
    "### Calculate the observed data flow using formula (given in the question description)"
   ],
   "metadata": {
    "collapsed": false
   }
  },
  {
   "cell_type": "code",
   "execution_count": 27,
   "outputs": [
    {
     "name": "stderr",
     "output_type": "stream",
     "text": [
      "/tmp/ipykernel_166518/1774716885.py:1: FutureWarning: Series.dt.weekofyear and Series.dt.week have been deprecated.  Please use Series.dt.isocalendar().week instead.\n",
      "  monthly_flow_data_series.groupby([monthly_flow_data_series['Date'].dt.year, monthly_flow_data_series['Date'].dt.month, monthly_flow_data_series['Date'].dt.week]).agg(['sum', 'mean', 'std'])\n"
     ]
    },
    {
     "data": {
      "text/plain": "               flow_m3_s              \n                     sum      mean std\nDate Date Date                        \n1970 1    5     2147.320  2147.320 NaN\n     2    9     2032.020  2032.020 NaN\n     3    14    1112.220  1112.220 NaN\n     4    18    1918.950  1918.950 NaN\n     5    22     649.940   649.940 NaN\n...                  ...       ...  ..\n2000 9    39    2051.640  2051.640 NaN\n     10   44    3389.370  3389.370 NaN\n     11   48    4448.620  4448.620 NaN\n     12   52    4292.590  4292.590 NaN\n2001 1    5       72.836    72.836 NaN\n\n[373 rows x 3 columns]",
      "text/html": "<div>\n<style scoped>\n    .dataframe tbody tr th:only-of-type {\n        vertical-align: middle;\n    }\n\n    .dataframe tbody tr th {\n        vertical-align: top;\n    }\n\n    .dataframe thead tr th {\n        text-align: left;\n    }\n\n    .dataframe thead tr:last-of-type th {\n        text-align: right;\n    }\n</style>\n<table border=\"1\" class=\"dataframe\">\n  <thead>\n    <tr>\n      <th></th>\n      <th></th>\n      <th></th>\n      <th colspan=\"3\" halign=\"left\">flow_m3_s</th>\n    </tr>\n    <tr>\n      <th></th>\n      <th></th>\n      <th></th>\n      <th>sum</th>\n      <th>mean</th>\n      <th>std</th>\n    </tr>\n    <tr>\n      <th>Date</th>\n      <th>Date</th>\n      <th>Date</th>\n      <th></th>\n      <th></th>\n      <th></th>\n    </tr>\n  </thead>\n  <tbody>\n    <tr>\n      <th rowspan=\"5\" valign=\"top\">1970</th>\n      <th>1</th>\n      <th>5</th>\n      <td>2147.320</td>\n      <td>2147.320</td>\n      <td>NaN</td>\n    </tr>\n    <tr>\n      <th>2</th>\n      <th>9</th>\n      <td>2032.020</td>\n      <td>2032.020</td>\n      <td>NaN</td>\n    </tr>\n    <tr>\n      <th>3</th>\n      <th>14</th>\n      <td>1112.220</td>\n      <td>1112.220</td>\n      <td>NaN</td>\n    </tr>\n    <tr>\n      <th>4</th>\n      <th>18</th>\n      <td>1918.950</td>\n      <td>1918.950</td>\n      <td>NaN</td>\n    </tr>\n    <tr>\n      <th>5</th>\n      <th>22</th>\n      <td>649.940</td>\n      <td>649.940</td>\n      <td>NaN</td>\n    </tr>\n    <tr>\n      <th>...</th>\n      <th>...</th>\n      <th>...</th>\n      <td>...</td>\n      <td>...</td>\n      <td>...</td>\n    </tr>\n    <tr>\n      <th rowspan=\"4\" valign=\"top\">2000</th>\n      <th>9</th>\n      <th>39</th>\n      <td>2051.640</td>\n      <td>2051.640</td>\n      <td>NaN</td>\n    </tr>\n    <tr>\n      <th>10</th>\n      <th>44</th>\n      <td>3389.370</td>\n      <td>3389.370</td>\n      <td>NaN</td>\n    </tr>\n    <tr>\n      <th>11</th>\n      <th>48</th>\n      <td>4448.620</td>\n      <td>4448.620</td>\n      <td>NaN</td>\n    </tr>\n    <tr>\n      <th>12</th>\n      <th>52</th>\n      <td>4292.590</td>\n      <td>4292.590</td>\n      <td>NaN</td>\n    </tr>\n    <tr>\n      <th>2001</th>\n      <th>1</th>\n      <th>5</th>\n      <td>72.836</td>\n      <td>72.836</td>\n      <td>NaN</td>\n    </tr>\n  </tbody>\n</table>\n<p>373 rows × 3 columns</p>\n</div>"
     },
     "execution_count": 27,
     "metadata": {},
     "output_type": "execute_result"
    }
   ],
   "source": [
    "monthly_flow_data_series.groupby([monthly_flow_data_series['Date'].dt.year, monthly_flow_data_series['Date'].dt.month, monthly_flow_data_series['Date'].dt.week]).agg(['sum', 'mean', 'std'])"
   ],
   "metadata": {
    "collapsed": false
   }
  },
  {
   "cell_type": "code",
   "execution_count": 19,
   "outputs": [
    {
     "data": {
      "text/plain": "31"
     },
     "execution_count": 19,
     "metadata": {},
     "output_type": "execute_result"
    }
   ],
   "source": [
    "int(monthly_flow_data_series.Date.dt.strftime('%d')[0])"
   ],
   "metadata": {
    "collapsed": false
   }
  },
  {
   "cell_type": "code",
   "execution_count": 29,
   "outputs": [
    {
     "data": {
      "text/plain": "1563.326249329759"
     },
     "execution_count": 29,
     "metadata": {},
     "output_type": "execute_result"
    }
   ],
   "source": [
    "u_t = monthly_flow_data_series.flow_m3_s.mean()\n",
    "u_t"
   ],
   "metadata": {
    "collapsed": false
   }
  },
  {
   "cell_type": "code",
   "execution_count": 30,
   "outputs": [
    {
     "data": {
      "text/plain": "1129.7573489097852"
     },
     "execution_count": 30,
     "metadata": {},
     "output_type": "execute_result"
    }
   ],
   "source": [
    "a_t = monthly_flow_data_series.flow_m3_s.std()\n",
    "a_t"
   ],
   "metadata": {
    "collapsed": false
   }
  },
  {
   "cell_type": "markdown",
   "source": [
    "### Correlation for monthly series."
   ],
   "metadata": {
    "collapsed": false
   }
  },
  {
   "cell_type": "code",
   "execution_count": 32,
   "outputs": [
    {
     "data": {
      "text/plain": "0.18050767385939198"
     },
     "execution_count": 32,
     "metadata": {},
     "output_type": "execute_result"
    }
   ],
   "source": [
    "#monthly_rainfall_data_series = monthly_rainfall_data_series.squeeze(axis=0)\n",
    "monthly_flow_data_series['flow_m3_s'].squeeze().autocorr(lag=2)"
   ],
   "metadata": {
    "collapsed": false
   }
  }
 ],
 "metadata": {
  "kernelspec": {
   "display_name": "Python 3",
   "language": "python",
   "name": "python3"
  },
  "language_info": {
   "codemirror_mode": {
    "name": "ipython",
    "version": 2
   },
   "file_extension": ".py",
   "mimetype": "text/x-python",
   "name": "python",
   "nbconvert_exporter": "python",
   "pygments_lexer": "ipython2",
   "version": "2.7.6"
  }
 },
 "nbformat": 4,
 "nbformat_minor": 0
}
