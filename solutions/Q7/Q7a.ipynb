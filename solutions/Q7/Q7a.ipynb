{
 "cells": [
  {
   "cell_type": "markdown",
   "source": [
    "### Q7a)"
   ],
   "metadata": {
    "collapsed": false
   }
  },
  {
   "cell_type": "code",
   "execution_count": 1,
   "outputs": [
    {
     "name": "stderr",
     "output_type": "stream",
     "text": [
      "/tmp/ipykernel_158480/3951374025.py:6: FutureWarning: The pandas.datetime class is deprecated and will be removed from pandas in a future version. Import from datetime module instead.\n",
      "  from pandas import datetime\n"
     ]
    }
   ],
   "source": [
    "# Imports\n",
    "import pandas as pd\n",
    "from matplotlib.pyplot import xcorr\n"
   ],
   "metadata": {
    "collapsed": false
   }
  },
  {
   "cell_type": "code",
   "execution_count": 2,
   "outputs": [
    {
     "data": {
      "text/plain": "        year  month  day  Amount_mm\n0     1961.0    1.0  1.0        1.0\n1     1961.0    1.0  2.0       14.0\n2     1961.0    1.0  3.0        8.6\n3     1961.0    1.0  5.0        7.6\n4     1961.0    1.0  6.0        2.2\n...      ...    ...  ...        ...\n7300     NaN    NaN  NaN        NaN\n7301     NaN    NaN  NaN        NaN\n7302     NaN    NaN  NaN        NaN\n7303     NaN    NaN  NaN        NaN\n7304     NaN    NaN  NaN        NaN\n\n[7305 rows x 4 columns]",
      "text/html": "<div>\n<style scoped>\n    .dataframe tbody tr th:only-of-type {\n        vertical-align: middle;\n    }\n\n    .dataframe tbody tr th {\n        vertical-align: top;\n    }\n\n    .dataframe thead th {\n        text-align: right;\n    }\n</style>\n<table border=\"1\" class=\"dataframe\">\n  <thead>\n    <tr style=\"text-align: right;\">\n      <th></th>\n      <th>year</th>\n      <th>month</th>\n      <th>day</th>\n      <th>Amount_mm</th>\n    </tr>\n  </thead>\n  <tbody>\n    <tr>\n      <th>0</th>\n      <td>1961.0</td>\n      <td>1.0</td>\n      <td>1.0</td>\n      <td>1.0</td>\n    </tr>\n    <tr>\n      <th>1</th>\n      <td>1961.0</td>\n      <td>1.0</td>\n      <td>2.0</td>\n      <td>14.0</td>\n    </tr>\n    <tr>\n      <th>2</th>\n      <td>1961.0</td>\n      <td>1.0</td>\n      <td>3.0</td>\n      <td>8.6</td>\n    </tr>\n    <tr>\n      <th>3</th>\n      <td>1961.0</td>\n      <td>1.0</td>\n      <td>5.0</td>\n      <td>7.6</td>\n    </tr>\n    <tr>\n      <th>4</th>\n      <td>1961.0</td>\n      <td>1.0</td>\n      <td>6.0</td>\n      <td>2.2</td>\n    </tr>\n    <tr>\n      <th>...</th>\n      <td>...</td>\n      <td>...</td>\n      <td>...</td>\n      <td>...</td>\n    </tr>\n    <tr>\n      <th>7300</th>\n      <td>NaN</td>\n      <td>NaN</td>\n      <td>NaN</td>\n      <td>NaN</td>\n    </tr>\n    <tr>\n      <th>7301</th>\n      <td>NaN</td>\n      <td>NaN</td>\n      <td>NaN</td>\n      <td>NaN</td>\n    </tr>\n    <tr>\n      <th>7302</th>\n      <td>NaN</td>\n      <td>NaN</td>\n      <td>NaN</td>\n      <td>NaN</td>\n    </tr>\n    <tr>\n      <th>7303</th>\n      <td>NaN</td>\n      <td>NaN</td>\n      <td>NaN</td>\n      <td>NaN</td>\n    </tr>\n    <tr>\n      <th>7304</th>\n      <td>NaN</td>\n      <td>NaN</td>\n      <td>NaN</td>\n      <td>NaN</td>\n    </tr>\n  </tbody>\n</table>\n<p>7305 rows × 4 columns</p>\n</div>"
     },
     "execution_count": 2,
     "metadata": {},
     "output_type": "execute_result"
    }
   ],
   "source": [
    "daily_rainfall_data = pd.read_csv('../../datasets/daily_rainfall_brandywine.csv')\n",
    "daily_rainfall_data"
   ],
   "metadata": {
    "collapsed": false
   }
  },
  {
   "cell_type": "markdown",
   "source": [
    "### Check for missing:\n",
    "* any missing data\n",
    "* any erroneous data (e.g. negative, or large values which are clearly incorrect)\n",
    "* any samples which are too small or not matching in size if they are to be compared against other samples\n"
   ],
   "metadata": {
    "collapsed": false
   }
  },
  {
   "cell_type": "code",
   "execution_count": 3,
   "outputs": [
    {
     "data": {
      "text/plain": "       year  month    day  Amount_mm\n0     False  False  False      False\n1     False  False  False      False\n2     False  False  False      False\n3     False  False  False      False\n4     False  False  False      False\n...     ...    ...    ...        ...\n7300   True   True   True       True\n7301   True   True   True       True\n7302   True   True   True       True\n7303   True   True   True       True\n7304   True   True   True       True\n\n[7305 rows x 4 columns]",
      "text/html": "<div>\n<style scoped>\n    .dataframe tbody tr th:only-of-type {\n        vertical-align: middle;\n    }\n\n    .dataframe tbody tr th {\n        vertical-align: top;\n    }\n\n    .dataframe thead th {\n        text-align: right;\n    }\n</style>\n<table border=\"1\" class=\"dataframe\">\n  <thead>\n    <tr style=\"text-align: right;\">\n      <th></th>\n      <th>year</th>\n      <th>month</th>\n      <th>day</th>\n      <th>Amount_mm</th>\n    </tr>\n  </thead>\n  <tbody>\n    <tr>\n      <th>0</th>\n      <td>False</td>\n      <td>False</td>\n      <td>False</td>\n      <td>False</td>\n    </tr>\n    <tr>\n      <th>1</th>\n      <td>False</td>\n      <td>False</td>\n      <td>False</td>\n      <td>False</td>\n    </tr>\n    <tr>\n      <th>2</th>\n      <td>False</td>\n      <td>False</td>\n      <td>False</td>\n      <td>False</td>\n    </tr>\n    <tr>\n      <th>3</th>\n      <td>False</td>\n      <td>False</td>\n      <td>False</td>\n      <td>False</td>\n    </tr>\n    <tr>\n      <th>4</th>\n      <td>False</td>\n      <td>False</td>\n      <td>False</td>\n      <td>False</td>\n    </tr>\n    <tr>\n      <th>...</th>\n      <td>...</td>\n      <td>...</td>\n      <td>...</td>\n      <td>...</td>\n    </tr>\n    <tr>\n      <th>7300</th>\n      <td>True</td>\n      <td>True</td>\n      <td>True</td>\n      <td>True</td>\n    </tr>\n    <tr>\n      <th>7301</th>\n      <td>True</td>\n      <td>True</td>\n      <td>True</td>\n      <td>True</td>\n    </tr>\n    <tr>\n      <th>7302</th>\n      <td>True</td>\n      <td>True</td>\n      <td>True</td>\n      <td>True</td>\n    </tr>\n    <tr>\n      <th>7303</th>\n      <td>True</td>\n      <td>True</td>\n      <td>True</td>\n      <td>True</td>\n    </tr>\n    <tr>\n      <th>7304</th>\n      <td>True</td>\n      <td>True</td>\n      <td>True</td>\n      <td>True</td>\n    </tr>\n  </tbody>\n</table>\n<p>7305 rows × 4 columns</p>\n</div>"
     },
     "execution_count": 3,
     "metadata": {},
     "output_type": "execute_result"
    }
   ],
   "source": [
    "# using isnull() function\n",
    "daily_rainfall_data.isnull()"
   ],
   "metadata": {
    "collapsed": false
   }
  },
  {
   "cell_type": "code",
   "execution_count": 4,
   "outputs": [
    {
     "data": {
      "text/plain": "True"
     },
     "execution_count": 4,
     "metadata": {},
     "output_type": "execute_result"
    }
   ],
   "source": [
    "# Any missing values?\n",
    "daily_rainfall_data.isnull().values.any()"
   ],
   "metadata": {
    "collapsed": false
   }
  },
  {
   "cell_type": "code",
   "execution_count": 5,
   "outputs": [
    {
     "name": "stdout",
     "output_type": "stream",
     "text": [
      "1336\n"
     ]
    }
   ],
   "source": [
    "print(daily_rainfall_data.isnull().values.sum())"
   ],
   "metadata": {
    "collapsed": false
   }
  },
  {
   "cell_type": "raw",
   "source": [
    "There are missing values."
   ],
   "metadata": {
    "collapsed": false
   }
  },
  {
   "cell_type": "markdown",
   "source": [
    "#### Remove missing values"
   ],
   "metadata": {
    "collapsed": false
   }
  },
  {
   "cell_type": "code",
   "execution_count": 44,
   "outputs": [
    {
     "name": "stdout",
     "output_type": "stream",
     "text": [
      "0\n"
     ]
    }
   ],
   "source": [
    "daily_rainfall_data = daily_rainfall_data.dropna(how='all')\n",
    "print(daily_rainfall_data.isnull().values.sum())"
   ],
   "metadata": {
    "collapsed": false
   }
  },
  {
   "cell_type": "code",
   "execution_count": 7,
   "outputs": [
    {
     "data": {
      "text/plain": "      year  month  day  Amount_mm\n0     1961      1    1        1.0\n1     1961      1    2       14.0\n2     1961      1    3        8.6\n3     1961      1    5        7.6\n4     1961      1    6        2.2\n...    ...    ...  ...        ...\n6966  2015     12   22        2.7\n6967  2015     12   25       24.1\n6968  2015     12   26       10.4\n6969  2015     12   30        2.8\n6970  2015     12   31        1.1\n\n[6971 rows x 4 columns]",
      "text/html": "<div>\n<style scoped>\n    .dataframe tbody tr th:only-of-type {\n        vertical-align: middle;\n    }\n\n    .dataframe tbody tr th {\n        vertical-align: top;\n    }\n\n    .dataframe thead th {\n        text-align: right;\n    }\n</style>\n<table border=\"1\" class=\"dataframe\">\n  <thead>\n    <tr style=\"text-align: right;\">\n      <th></th>\n      <th>year</th>\n      <th>month</th>\n      <th>day</th>\n      <th>Amount_mm</th>\n    </tr>\n  </thead>\n  <tbody>\n    <tr>\n      <th>0</th>\n      <td>1961</td>\n      <td>1</td>\n      <td>1</td>\n      <td>1.0</td>\n    </tr>\n    <tr>\n      <th>1</th>\n      <td>1961</td>\n      <td>1</td>\n      <td>2</td>\n      <td>14.0</td>\n    </tr>\n    <tr>\n      <th>2</th>\n      <td>1961</td>\n      <td>1</td>\n      <td>3</td>\n      <td>8.6</td>\n    </tr>\n    <tr>\n      <th>3</th>\n      <td>1961</td>\n      <td>1</td>\n      <td>5</td>\n      <td>7.6</td>\n    </tr>\n    <tr>\n      <th>4</th>\n      <td>1961</td>\n      <td>1</td>\n      <td>6</td>\n      <td>2.2</td>\n    </tr>\n    <tr>\n      <th>...</th>\n      <td>...</td>\n      <td>...</td>\n      <td>...</td>\n      <td>...</td>\n    </tr>\n    <tr>\n      <th>6966</th>\n      <td>2015</td>\n      <td>12</td>\n      <td>22</td>\n      <td>2.7</td>\n    </tr>\n    <tr>\n      <th>6967</th>\n      <td>2015</td>\n      <td>12</td>\n      <td>25</td>\n      <td>24.1</td>\n    </tr>\n    <tr>\n      <th>6968</th>\n      <td>2015</td>\n      <td>12</td>\n      <td>26</td>\n      <td>10.4</td>\n    </tr>\n    <tr>\n      <th>6969</th>\n      <td>2015</td>\n      <td>12</td>\n      <td>30</td>\n      <td>2.8</td>\n    </tr>\n    <tr>\n      <th>6970</th>\n      <td>2015</td>\n      <td>12</td>\n      <td>31</td>\n      <td>1.1</td>\n    </tr>\n  </tbody>\n</table>\n<p>6971 rows × 4 columns</p>\n</div>"
     },
     "execution_count": 7,
     "metadata": {},
     "output_type": "execute_result"
    }
   ],
   "source": [
    "daily_rainfall_data = daily_rainfall_data.astype({\"year\":\"int\", \"month\":\"int\", \"day\":\"int\"})\n",
    "daily_rainfall_data"
   ],
   "metadata": {
    "collapsed": false
   }
  },
  {
   "cell_type": "markdown",
   "source": [
    "### Original data copy"
   ],
   "metadata": {
    "collapsed": false
   }
  },
  {
   "cell_type": "code",
   "execution_count": 8,
   "outputs": [],
   "source": [
    "daily_rainfall_data_copy = daily_rainfall_data.copy()"
   ],
   "metadata": {
    "collapsed": false
   }
  },
  {
   "cell_type": "markdown",
   "source": [
    "### Transform the data to time series format"
   ],
   "metadata": {
    "collapsed": false
   }
  },
  {
   "cell_type": "code",
   "execution_count": 9,
   "outputs": [
    {
     "data": {
      "text/plain": "      year  month  day  Amount_mm   dateInt       Date\n0     1961      1    1        1.0  19610101 1961-01-01\n1     1961      1    2       14.0  19610102 1961-01-02\n2     1961      1    3        8.6  19610103 1961-01-03\n3     1961      1    5        7.6  19610105 1961-01-05\n4     1961      1    6        2.2  19610106 1961-01-06\n...    ...    ...  ...        ...       ...        ...\n6966  2015     12   22        2.7  20151222 2015-12-22\n6967  2015     12   25       24.1  20151225 2015-12-25\n6968  2015     12   26       10.4  20151226 2015-12-26\n6969  2015     12   30        2.8  20151230 2015-12-30\n6970  2015     12   31        1.1  20151231 2015-12-31\n\n[6971 rows x 6 columns]",
      "text/html": "<div>\n<style scoped>\n    .dataframe tbody tr th:only-of-type {\n        vertical-align: middle;\n    }\n\n    .dataframe tbody tr th {\n        vertical-align: top;\n    }\n\n    .dataframe thead th {\n        text-align: right;\n    }\n</style>\n<table border=\"1\" class=\"dataframe\">\n  <thead>\n    <tr style=\"text-align: right;\">\n      <th></th>\n      <th>year</th>\n      <th>month</th>\n      <th>day</th>\n      <th>Amount_mm</th>\n      <th>dateInt</th>\n      <th>Date</th>\n    </tr>\n  </thead>\n  <tbody>\n    <tr>\n      <th>0</th>\n      <td>1961</td>\n      <td>1</td>\n      <td>1</td>\n      <td>1.0</td>\n      <td>19610101</td>\n      <td>1961-01-01</td>\n    </tr>\n    <tr>\n      <th>1</th>\n      <td>1961</td>\n      <td>1</td>\n      <td>2</td>\n      <td>14.0</td>\n      <td>19610102</td>\n      <td>1961-01-02</td>\n    </tr>\n    <tr>\n      <th>2</th>\n      <td>1961</td>\n      <td>1</td>\n      <td>3</td>\n      <td>8.6</td>\n      <td>19610103</td>\n      <td>1961-01-03</td>\n    </tr>\n    <tr>\n      <th>3</th>\n      <td>1961</td>\n      <td>1</td>\n      <td>5</td>\n      <td>7.6</td>\n      <td>19610105</td>\n      <td>1961-01-05</td>\n    </tr>\n    <tr>\n      <th>4</th>\n      <td>1961</td>\n      <td>1</td>\n      <td>6</td>\n      <td>2.2</td>\n      <td>19610106</td>\n      <td>1961-01-06</td>\n    </tr>\n    <tr>\n      <th>...</th>\n      <td>...</td>\n      <td>...</td>\n      <td>...</td>\n      <td>...</td>\n      <td>...</td>\n      <td>...</td>\n    </tr>\n    <tr>\n      <th>6966</th>\n      <td>2015</td>\n      <td>12</td>\n      <td>22</td>\n      <td>2.7</td>\n      <td>20151222</td>\n      <td>2015-12-22</td>\n    </tr>\n    <tr>\n      <th>6967</th>\n      <td>2015</td>\n      <td>12</td>\n      <td>25</td>\n      <td>24.1</td>\n      <td>20151225</td>\n      <td>2015-12-25</td>\n    </tr>\n    <tr>\n      <th>6968</th>\n      <td>2015</td>\n      <td>12</td>\n      <td>26</td>\n      <td>10.4</td>\n      <td>20151226</td>\n      <td>2015-12-26</td>\n    </tr>\n    <tr>\n      <th>6969</th>\n      <td>2015</td>\n      <td>12</td>\n      <td>30</td>\n      <td>2.8</td>\n      <td>20151230</td>\n      <td>2015-12-30</td>\n    </tr>\n    <tr>\n      <th>6970</th>\n      <td>2015</td>\n      <td>12</td>\n      <td>31</td>\n      <td>1.1</td>\n      <td>20151231</td>\n      <td>2015-12-31</td>\n    </tr>\n  </tbody>\n</table>\n<p>6971 rows × 6 columns</p>\n</div>"
     },
     "execution_count": 9,
     "metadata": {},
     "output_type": "execute_result"
    }
   ],
   "source": [
    "daily_rainfall_data_copy['dateInt'] = daily_rainfall_data_copy['year'].astype(str) + daily_rainfall_data_copy['month'].astype(str).str.zfill(2)+ daily_rainfall_data_copy['day'].astype(str).str.zfill(2)\n",
    "daily_rainfall_data_copy['Date'] = pd.to_datetime(daily_rainfall_data_copy['dateInt'], format='%Y%m%d')\n",
    "daily_rainfall_data_copy"
   ],
   "metadata": {
    "collapsed": false
   }
  },
  {
   "cell_type": "markdown",
   "source": [
    "### Daily Annual Series"
   ],
   "metadata": {
    "collapsed": false
   }
  },
  {
   "cell_type": "code",
   "execution_count": 10,
   "outputs": [
    {
     "data": {
      "text/plain": "           Date  Amount_mm\n0    1961-01-01        1.0\n1    1961-01-02       14.0\n2    1961-01-03        8.6\n3    1961-01-05        7.6\n4    1961-01-06        2.2\n...         ...        ...\n6966 2015-12-22        2.7\n6967 2015-12-25       24.1\n6968 2015-12-26       10.4\n6969 2015-12-30        2.8\n6970 2015-12-31        1.1\n\n[6971 rows x 2 columns]",
      "text/html": "<div>\n<style scoped>\n    .dataframe tbody tr th:only-of-type {\n        vertical-align: middle;\n    }\n\n    .dataframe tbody tr th {\n        vertical-align: top;\n    }\n\n    .dataframe thead th {\n        text-align: right;\n    }\n</style>\n<table border=\"1\" class=\"dataframe\">\n  <thead>\n    <tr style=\"text-align: right;\">\n      <th></th>\n      <th>Date</th>\n      <th>Amount_mm</th>\n    </tr>\n  </thead>\n  <tbody>\n    <tr>\n      <th>0</th>\n      <td>1961-01-01</td>\n      <td>1.0</td>\n    </tr>\n    <tr>\n      <th>1</th>\n      <td>1961-01-02</td>\n      <td>14.0</td>\n    </tr>\n    <tr>\n      <th>2</th>\n      <td>1961-01-03</td>\n      <td>8.6</td>\n    </tr>\n    <tr>\n      <th>3</th>\n      <td>1961-01-05</td>\n      <td>7.6</td>\n    </tr>\n    <tr>\n      <th>4</th>\n      <td>1961-01-06</td>\n      <td>2.2</td>\n    </tr>\n    <tr>\n      <th>...</th>\n      <td>...</td>\n      <td>...</td>\n    </tr>\n    <tr>\n      <th>6966</th>\n      <td>2015-12-22</td>\n      <td>2.7</td>\n    </tr>\n    <tr>\n      <th>6967</th>\n      <td>2015-12-25</td>\n      <td>24.1</td>\n    </tr>\n    <tr>\n      <th>6968</th>\n      <td>2015-12-26</td>\n      <td>10.4</td>\n    </tr>\n    <tr>\n      <th>6969</th>\n      <td>2015-12-30</td>\n      <td>2.8</td>\n    </tr>\n    <tr>\n      <th>6970</th>\n      <td>2015-12-31</td>\n      <td>1.1</td>\n    </tr>\n  </tbody>\n</table>\n<p>6971 rows × 2 columns</p>\n</div>"
     },
     "execution_count": 10,
     "metadata": {},
     "output_type": "execute_result"
    }
   ],
   "source": [
    "# daily_rainfall_data_copy = daily_rainfall_data_copy.rename(columns={'Date': 'daily'})\n",
    "daily_rainfall_data_series =  daily_rainfall_data_copy.filter(['Date', 'Amount_mm'], axis=1)\n",
    "daily_rainfall_data_series.set_index('Date').resample('D').sum()\n",
    "daily_rainfall_data_series"
   ],
   "metadata": {
    "collapsed": false
   }
  },
  {
   "cell_type": "markdown",
   "source": [
    "### Monthly Annual Series"
   ],
   "metadata": {
    "collapsed": false
   }
  },
  {
   "cell_type": "code",
   "execution_count": 11,
   "outputs": [
    {
     "data": {
      "text/plain": "            Amount_mm\nDate                 \n1961-01-31       79.2\n1961-02-28       27.7\n1961-03-31       13.9\n1961-04-30       55.2\n1961-05-31       38.2\n...               ...\n2015-08-31       71.4\n2015-09-30       25.8\n2015-10-31       58.4\n2015-11-30      110.7\n2015-12-31      106.6\n\n[660 rows x 1 columns]",
      "text/html": "<div>\n<style scoped>\n    .dataframe tbody tr th:only-of-type {\n        vertical-align: middle;\n    }\n\n    .dataframe tbody tr th {\n        vertical-align: top;\n    }\n\n    .dataframe thead th {\n        text-align: right;\n    }\n</style>\n<table border=\"1\" class=\"dataframe\">\n  <thead>\n    <tr style=\"text-align: right;\">\n      <th></th>\n      <th>Amount_mm</th>\n    </tr>\n    <tr>\n      <th>Date</th>\n      <th></th>\n    </tr>\n  </thead>\n  <tbody>\n    <tr>\n      <th>1961-01-31</th>\n      <td>79.2</td>\n    </tr>\n    <tr>\n      <th>1961-02-28</th>\n      <td>27.7</td>\n    </tr>\n    <tr>\n      <th>1961-03-31</th>\n      <td>13.9</td>\n    </tr>\n    <tr>\n      <th>1961-04-30</th>\n      <td>55.2</td>\n    </tr>\n    <tr>\n      <th>1961-05-31</th>\n      <td>38.2</td>\n    </tr>\n    <tr>\n      <th>...</th>\n      <td>...</td>\n    </tr>\n    <tr>\n      <th>2015-08-31</th>\n      <td>71.4</td>\n    </tr>\n    <tr>\n      <th>2015-09-30</th>\n      <td>25.8</td>\n    </tr>\n    <tr>\n      <th>2015-10-31</th>\n      <td>58.4</td>\n    </tr>\n    <tr>\n      <th>2015-11-30</th>\n      <td>110.7</td>\n    </tr>\n    <tr>\n      <th>2015-12-31</th>\n      <td>106.6</td>\n    </tr>\n  </tbody>\n</table>\n<p>660 rows × 1 columns</p>\n</div>"
     },
     "execution_count": 11,
     "metadata": {},
     "output_type": "execute_result"
    }
   ],
   "source": [
    "monthly_rainfall_data_series =  daily_rainfall_data_copy.filter(['Date', 'Amount_mm'], axis=1)\n",
    "monthly_rainfall_data_series = monthly_rainfall_data_series.set_index('Date').resample('M').sum()\n",
    "monthly_rainfall_data_series"
   ],
   "metadata": {
    "collapsed": false
   }
  },
  {
   "cell_type": "markdown",
   "source": [
    "### Annual Time Series"
   ],
   "metadata": {
    "collapsed": false
   }
  },
  {
   "cell_type": "code",
   "execution_count": 12,
   "outputs": [
    {
     "data": {
      "text/plain": "            Amount_mm\nDate                 \n1961-12-31      615.2\n1962-12-31      518.8\n1963-12-31      710.8\n1964-12-31      458.0\n1965-12-31      803.1\n1966-12-31      764.7\n1967-12-31      653.5\n1968-12-31      727.2\n1969-12-31      762.5\n1970-12-31      579.9\n1971-12-31      562.9\n1972-12-31      506.6\n1973-12-31      497.9\n1974-12-31      600.8\n1975-12-31      546.7\n1976-12-31      669.8\n1977-12-31      608.8\n1978-12-31      764.3\n1979-12-31      727.4\n1980-12-31      755.6\n1981-12-31      673.3\n1982-12-31      536.8\n1983-12-31      619.1\n1984-12-31      638.7\n1985-12-31      640.8\n1986-12-31      658.6\n1987-12-31      742.6\n1988-12-31      633.3\n1989-12-31      371.5\n1990-12-31      521.1\n1991-12-31      514.5\n1992-12-31      631.8\n1993-12-31      671.7\n1994-12-31      537.6\n1995-12-31      609.5\n1996-12-31      521.1\n1997-12-31      591.7\n1998-12-31      804.2\n1999-12-31      634.1\n2000-12-31      864.2\n2001-12-31      672.2\n2002-12-31      671.7\n2003-12-31      493.6\n2004-12-31      730.9\n2005-12-31      726.7\n2006-12-31      544.2\n2007-12-31      582.6\n2008-12-31      831.5\n2009-12-31      667.4\n2010-12-31      764.4\n2011-12-31      552.6\n2012-12-31     1007.4\n2013-12-31      641.0\n2014-12-31      638.9\n2015-12-31      680.8",
      "text/html": "<div>\n<style scoped>\n    .dataframe tbody tr th:only-of-type {\n        vertical-align: middle;\n    }\n\n    .dataframe tbody tr th {\n        vertical-align: top;\n    }\n\n    .dataframe thead th {\n        text-align: right;\n    }\n</style>\n<table border=\"1\" class=\"dataframe\">\n  <thead>\n    <tr style=\"text-align: right;\">\n      <th></th>\n      <th>Amount_mm</th>\n    </tr>\n    <tr>\n      <th>Date</th>\n      <th></th>\n    </tr>\n  </thead>\n  <tbody>\n    <tr>\n      <th>1961-12-31</th>\n      <td>615.2</td>\n    </tr>\n    <tr>\n      <th>1962-12-31</th>\n      <td>518.8</td>\n    </tr>\n    <tr>\n      <th>1963-12-31</th>\n      <td>710.8</td>\n    </tr>\n    <tr>\n      <th>1964-12-31</th>\n      <td>458.0</td>\n    </tr>\n    <tr>\n      <th>1965-12-31</th>\n      <td>803.1</td>\n    </tr>\n    <tr>\n      <th>1966-12-31</th>\n      <td>764.7</td>\n    </tr>\n    <tr>\n      <th>1967-12-31</th>\n      <td>653.5</td>\n    </tr>\n    <tr>\n      <th>1968-12-31</th>\n      <td>727.2</td>\n    </tr>\n    <tr>\n      <th>1969-12-31</th>\n      <td>762.5</td>\n    </tr>\n    <tr>\n      <th>1970-12-31</th>\n      <td>579.9</td>\n    </tr>\n    <tr>\n      <th>1971-12-31</th>\n      <td>562.9</td>\n    </tr>\n    <tr>\n      <th>1972-12-31</th>\n      <td>506.6</td>\n    </tr>\n    <tr>\n      <th>1973-12-31</th>\n      <td>497.9</td>\n    </tr>\n    <tr>\n      <th>1974-12-31</th>\n      <td>600.8</td>\n    </tr>\n    <tr>\n      <th>1975-12-31</th>\n      <td>546.7</td>\n    </tr>\n    <tr>\n      <th>1976-12-31</th>\n      <td>669.8</td>\n    </tr>\n    <tr>\n      <th>1977-12-31</th>\n      <td>608.8</td>\n    </tr>\n    <tr>\n      <th>1978-12-31</th>\n      <td>764.3</td>\n    </tr>\n    <tr>\n      <th>1979-12-31</th>\n      <td>727.4</td>\n    </tr>\n    <tr>\n      <th>1980-12-31</th>\n      <td>755.6</td>\n    </tr>\n    <tr>\n      <th>1981-12-31</th>\n      <td>673.3</td>\n    </tr>\n    <tr>\n      <th>1982-12-31</th>\n      <td>536.8</td>\n    </tr>\n    <tr>\n      <th>1983-12-31</th>\n      <td>619.1</td>\n    </tr>\n    <tr>\n      <th>1984-12-31</th>\n      <td>638.7</td>\n    </tr>\n    <tr>\n      <th>1985-12-31</th>\n      <td>640.8</td>\n    </tr>\n    <tr>\n      <th>1986-12-31</th>\n      <td>658.6</td>\n    </tr>\n    <tr>\n      <th>1987-12-31</th>\n      <td>742.6</td>\n    </tr>\n    <tr>\n      <th>1988-12-31</th>\n      <td>633.3</td>\n    </tr>\n    <tr>\n      <th>1989-12-31</th>\n      <td>371.5</td>\n    </tr>\n    <tr>\n      <th>1990-12-31</th>\n      <td>521.1</td>\n    </tr>\n    <tr>\n      <th>1991-12-31</th>\n      <td>514.5</td>\n    </tr>\n    <tr>\n      <th>1992-12-31</th>\n      <td>631.8</td>\n    </tr>\n    <tr>\n      <th>1993-12-31</th>\n      <td>671.7</td>\n    </tr>\n    <tr>\n      <th>1994-12-31</th>\n      <td>537.6</td>\n    </tr>\n    <tr>\n      <th>1995-12-31</th>\n      <td>609.5</td>\n    </tr>\n    <tr>\n      <th>1996-12-31</th>\n      <td>521.1</td>\n    </tr>\n    <tr>\n      <th>1997-12-31</th>\n      <td>591.7</td>\n    </tr>\n    <tr>\n      <th>1998-12-31</th>\n      <td>804.2</td>\n    </tr>\n    <tr>\n      <th>1999-12-31</th>\n      <td>634.1</td>\n    </tr>\n    <tr>\n      <th>2000-12-31</th>\n      <td>864.2</td>\n    </tr>\n    <tr>\n      <th>2001-12-31</th>\n      <td>672.2</td>\n    </tr>\n    <tr>\n      <th>2002-12-31</th>\n      <td>671.7</td>\n    </tr>\n    <tr>\n      <th>2003-12-31</th>\n      <td>493.6</td>\n    </tr>\n    <tr>\n      <th>2004-12-31</th>\n      <td>730.9</td>\n    </tr>\n    <tr>\n      <th>2005-12-31</th>\n      <td>726.7</td>\n    </tr>\n    <tr>\n      <th>2006-12-31</th>\n      <td>544.2</td>\n    </tr>\n    <tr>\n      <th>2007-12-31</th>\n      <td>582.6</td>\n    </tr>\n    <tr>\n      <th>2008-12-31</th>\n      <td>831.5</td>\n    </tr>\n    <tr>\n      <th>2009-12-31</th>\n      <td>667.4</td>\n    </tr>\n    <tr>\n      <th>2010-12-31</th>\n      <td>764.4</td>\n    </tr>\n    <tr>\n      <th>2011-12-31</th>\n      <td>552.6</td>\n    </tr>\n    <tr>\n      <th>2012-12-31</th>\n      <td>1007.4</td>\n    </tr>\n    <tr>\n      <th>2013-12-31</th>\n      <td>641.0</td>\n    </tr>\n    <tr>\n      <th>2014-12-31</th>\n      <td>638.9</td>\n    </tr>\n    <tr>\n      <th>2015-12-31</th>\n      <td>680.8</td>\n    </tr>\n  </tbody>\n</table>\n</div>"
     },
     "execution_count": 12,
     "metadata": {},
     "output_type": "execute_result"
    }
   ],
   "source": [
    "annual_rainfall_data_series =  daily_rainfall_data_copy.filter(['Date', 'Amount_mm'], axis=1)\n",
    "annual_rainfall_data_series = annual_rainfall_data_series.set_index('Date').resample('Y').sum()\n",
    "annual_rainfall_data_series"
   ],
   "metadata": {
    "collapsed": false
   }
  },
  {
   "cell_type": "markdown",
   "source": [
    "### Correlation for specific daily, monthly and yearly series."
   ],
   "metadata": {
    "collapsed": false
   }
  },
  {
   "cell_type": "raw",
   "source": [
    "daily correlation for 5 lags"
   ],
   "metadata": {
    "collapsed": false
   }
  },
  {
   "cell_type": "code",
   "execution_count": 37,
   "outputs": [
    {
     "data": {
      "text/plain": "0.022291581239872883"
     },
     "execution_count": 37,
     "metadata": {},
     "output_type": "execute_result"
    }
   ],
   "source": [
    "#daily_rainfall_data_series = daily_rainfall_data_series.squeeze(axis=0)\n",
    "daily_rainfall_data_series['Amount_mm'].squeeze().autocorr(lag=5)"
   ],
   "metadata": {
    "collapsed": false
   }
  },
  {
   "cell_type": "raw",
   "source": [
    "monthly correlatioon between 2 lags"
   ],
   "metadata": {
    "collapsed": false
   }
  },
  {
   "cell_type": "code",
   "execution_count": 34,
   "outputs": [
    {
     "data": {
      "text/plain": "0.04378834871914531"
     },
     "execution_count": 34,
     "metadata": {},
     "output_type": "execute_result"
    }
   ],
   "source": [
    "#monthly_rainfall_data_series = monthly_rainfall_data_series.squeeze(axis=0)\n",
    "monthly_rainfall_data_series['Amount_mm'].squeeze().autocorr()"
   ],
   "metadata": {
    "collapsed": false
   }
  },
  {
   "cell_type": "raw",
   "source": [
    "annual correlatioon between 7 lags"
   ],
   "metadata": {
    "collapsed": false
   }
  },
  {
   "cell_type": "code",
   "execution_count": 38,
   "outputs": [
    {
     "data": {
      "text/plain": "0.018757197187676256"
     },
     "execution_count": 38,
     "metadata": {},
     "output_type": "execute_result"
    }
   ],
   "source": [
    "#monthly_rainfall_data_series = monthly_rainfall_data_series.squeeze(axis=0)\n",
    "annual_rainfall_data_series['Amount_mm'].squeeze().autocorr(lag=7)"
   ],
   "metadata": {
    "collapsed": false
   }
  }
 ],
 "metadata": {
  "kernelspec": {
   "display_name": "Python 3",
   "language": "python",
   "name": "python3"
  },
  "language_info": {
   "codemirror_mode": {
    "name": "ipython",
    "version": 2
   },
   "file_extension": ".py",
   "mimetype": "text/x-python",
   "name": "python",
   "nbconvert_exporter": "python",
   "pygments_lexer": "ipython2",
   "version": "2.7.6"
  }
 },
 "nbformat": 4,
 "nbformat_minor": 0
}
